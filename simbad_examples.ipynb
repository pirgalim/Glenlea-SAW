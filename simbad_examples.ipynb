{
 "cells": [
  {
   "cell_type": "code",
   "execution_count": null,
   "metadata": {},
   "outputs": [],
   "source": [
    "from astroquery.simbad import Simbad\n",
    "from astropy.coordinates import SkyCoord\n",
    "import astropy.units as u\n",
    "\n",
    "Simbad.reset_votable_fields()\n",
    "Simbad.add_votable_fields('otype')\n",
    "\n",
    "galactic_coords = SkyCoord(l=133.6, b=-37.7, unit=(u.deg, u.deg), frame='galactic')\n",
    "m51_coords = SkyCoord(ra=\"13h 29m 52.7s\", dec=\"+47d 11m 42s\", frame=\"icrs\")\n",
    "\n",
    "m1_coords = SkyCoord(ra=83.63888889, dec=22.01444444, unit='deg', frame='icrs')\n",
    "# m1_coords = SkyCoord(ra=\"5h 34m 32s\", dec=\"+22d 0m 52s\", frame=\"icrs\")\n",
    "\n",
    "\n",
    "result = Simbad.query_region(m1_coords, radius = 2 * u.arcmin)\n",
    "result.sort(\"OTYPE\")\n",
    "\n",
    "for r in result:\n",
    "    if(\"SNRemnant\" in r[\"OTYPE\"]):\n",
    "        print(r[\"MAIN_ID\", \"RA\", \"DEC\", \"OTYPE\"])"
   ]
  }
 ],
 "metadata": {
  "kernelspec": {
   "display_name": "base",
   "language": "python",
   "name": "python3"
  },
  "language_info": {
   "codemirror_mode": {
    "name": "ipython",
    "version": 3
   },
   "file_extension": ".py",
   "mimetype": "text/x-python",
   "name": "python",
   "nbconvert_exporter": "python",
   "pygments_lexer": "ipython3",
   "version": "3.11.5"
  }
 },
 "nbformat": 4,
 "nbformat_minor": 2
}
