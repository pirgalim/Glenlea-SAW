{
 "cells": [
  {
   "cell_type": "code",
   "execution_count": null,
   "metadata": {},
   "outputs": [],
   "source": [
    "from astropy.coordinates import SkyCoord\n",
    "from astropy import units as u\n",
    "\n",
    "# Replace with your actual RA and Dec values\n",
    "# ra = 198 * u.deg\n",
    "# dec = 40 * u.deg\n",
    "\n",
    "ra = 19 * u.hour\n",
    "dec = 40 * u.deg\n",
    "\n",
    "coord = SkyCoord(ra=ra, dec=dec, frame='icrs')\n",
    "\n",
    "# Use VizieR to query the SIMBAD astronomical database\n",
    "from astroquery.vizier import Vizier\n",
    "result = Vizier.query_region(coord, radius=1*u.arcmin, catalog=\"SIMBAD\")\n",
    "print(result)"
   ]
  },
  {
   "cell_type": "code",
   "execution_count": 2,
   "metadata": {},
   "outputs": [
    {
     "name": "stdout",
     "output_type": "stream",
     "text": [
      "TableList with 3 tables:\n",
      "\t'0:I/297/out' with 19 column(s) and 50 row(s) \n",
      "\t'1:I/322A/out' with 24 column(s) and 50 row(s) \n",
      "\t'2:I/340/ucac5' with 20 column(s) and 50 row(s) \n",
      "   NOMAD1      RAJ2000     DEJ2000    YM  r  ... r_Rmag  Jmag   Hmag   Kmag   R \n",
      "                 deg         deg             ...         mag    mag    mag      \n",
      "------------ ----------- ----------- --- --- ... ------ ------ ------ ------ ---\n",
      "1249-0391563 299.8850611  34.9550222  .M   B ...      B 13.856 12.576 12.164    \n",
      "1249-0391569 299.8860194  34.9513167  YM   B ...      B 14.917 14.188 14.087    \n",
      "1249-0391583 299.8880658  34.9575769  .M   M ...        17.021 16.053 15.371    \n",
      "1249-0391585 299.8883611  34.9518694  YM   Y ...        16.638 15.987 16.234    \n",
      "1249-0391609 299.8916861  34.9567056  .M   B ...      B 13.849 12.743 12.305    \n"
     ]
    },
    {
     "data": {
      "image/png": "[encoded data removed]",
      "text/plain": [
       "<Figure size 640x480 with 1 Axes>"
      ]
     },
     "metadata": {},
     "output_type": "display_data"
    }
   ],
   "source": [
    "from astroquery.vizier import Vizier\n",
    "import astropy.units as u\n",
    "import astropy.coordinates as coord\n",
    "result = Vizier.query_region(coord.SkyCoord(ra=299.590, dec=35.201,\n",
    "                                            unit=(u.deg, u.deg),\n",
    "                                            frame='icrs'),\n",
    "                        width=\"30m\",\n",
    "                        catalog=[\"NOMAD\", \"UCAC\"])\n",
    "print(result)\n",
    "\n",
    "# Access the first table (NOMAD)\n",
    "nomad_table = result[0]\n",
    "\n",
    "# Print the first 5 rows of the NOMAD table\n",
    "print(nomad_table[:5])\n",
    "\n",
    "# Access a specific column from the NOMAD table\n",
    "ra_values = nomad_table['RAJ2000']\n",
    "dec_values = nomad_table['DEJ2000']\n",
    "\n",
    "# Plot the objects on a sky map\n",
    "import matplotlib.pyplot as plt\n",
    "plt.scatter(ra_values, dec_values)\n",
    "plt.xlabel('RA (deg)')\n",
    "plt.ylabel('Dec (deg)')\n",
    "plt.show()"
   ]
  },
  {
   "cell_type": "code",
   "execution_count": 3,
   "metadata": {},
   "outputs": [
    {
     "name": "stdout",
     "output_type": "stream",
     "text": [
      "No object found at the specified coordinates.\n"
     ]
    },
    {
     "name": "stderr",
     "output_type": "stream",
     "text": [
      "WARNING: BlankResponseWarning: Warning: The script line number 3 raised an error (recorded in the `errors` attribute of the result table): '10:37:30 -41:12:00': No astronomical object found : [astroquery.simbad.core]\n"
     ]
    }
   ],
   "source": [
    "from astropy.coordinates import SkyCoord\n",
    "from astroquery.simbad import Simbad\n",
    "\n",
    "# Define coordinates\n",
    "ra = 10.625 * 15  # Convert degrees to hours\n",
    "dec = -41.2    # degrees\n",
    "\n",
    "# Create a SkyCoord object\n",
    "coord = SkyCoord(ra=ra, dec=dec, unit='deg', frame='icrs')\n",
    "\n",
    "# Query SIMBAD\n",
    "result_table = Simbad.query_region(coord, radius='5 arcsec')\n",
    "\n",
    "# Print object names\n",
    "if result_table is not None:\n",
    "    object_names = result_table['MAIN_ID']\n",
    "    print(\"Objects found at the specified coordinates:\")\n",
    "    for name in object_names:\n",
    "        print(name)\n",
    "else:\n",
    "    print(\"No object found at the specified coordinates.\")"
   ]
  },
  {
   "cell_type": "code",
   "execution_count": 40,
   "metadata": {},
   "outputs": [
    {
     "name": "stdout",
     "output_type": "stream",
     "text": [
      "      MAIN_ID            OTYPE      \n",
      "------------------- ----------------\n",
      "           GJ 699 b Planet_Candidate\n",
      "NAME Barnard's star          BYDraV*\n",
      "      MAIN_ID            OTYPE      \n",
      "------------------- ----------------\n",
      "           GJ 699 b Planet_Candidate\n",
      "NAME Barnard's star          BYDraV*\n"
     ]
    }
   ],
   "source": [
    "from astroquery.simbad import Simbad\n",
    "from astropy.coordinates import SkyCoord\n",
    "import astropy.units as u\n",
    "# Simbad.query_region(SkyCoord(31.0087, 14.0627, unit=(u.deg, u.deg),\n",
    "#                     frame='galactic'), radius=200 * u.arcsec)\n",
    "\n",
    "galactic_coords = SkyCoord(l=31.0087, b=14.0627, unit=(u.deg, u.deg), frame='galactic')\n",
    "\n",
    "result = Simbad.query_region(galactic_coords, radius = 20 * u.arcsec)\n",
    "print(result[\"MAIN_ID\", \"OTYPE\"])\n",
    "\n",
    "icrs_coords = galactic_coords.icrs\n",
    "result = Simbad.query_region(icrs_coords, radius = 20 * u.arcsec)\n",
    "print(result[\"MAIN_ID\", \"OTYPE\"])\n"
   ]
  },
  {
   "cell_type": "code",
   "execution_count": null,
   "metadata": {},
   "outputs": [
    {
     "name": "stdout",
     "output_type": "stream",
     "text": [
      " MAIN_ID        RA           DEC      OTYPE \n",
      "             \"h:m:s\"       \"d:m:s\"          \n",
      "--------- ------------- ------------- ------\n",
      "V* CM Tau 05 34 31.9474 +22 00 52.153 Pulsar\n",
      "MAIN_ID     RA        DEC      OTYPE  \n",
      "         \"h:m:s\"    \"d:m:s\"           \n",
      "------- ---------- --------- ---------\n",
      "  M   1 05 34 31.8 +22 01 03 SNRemnant\n",
      "        MAIN_ID               RA           DEC      OTYPE\n",
      "                           \"h:m:s\"       \"d:m:s\"         \n",
      "----------------------- ------------- ------------- -----\n",
      "2MASS J05341074+2202422 05 34 10.7527 +22 02 42.209  Star\n",
      "        MAIN_ID               RA           DEC      OTYPE\n",
      "                           \"h:m:s\"       \"d:m:s\"         \n",
      "----------------------- ------------- ------------- -----\n",
      "2MASS J05340120+2200537 05 34 01.2114 +22 00 53.726  Star\n",
      "        MAIN_ID               RA           DEC      OTYPE\n",
      "                           \"h:m:s\"       \"d:m:s\"         \n",
      "----------------------- ------------- ------------- -----\n",
      "2MASS J05340719+2200294 05 34 07.1986 +22 00 29.436  Star\n",
      "        MAIN_ID               RA           DEC      OTYPE\n",
      "                           \"h:m:s\"       \"d:m:s\"         \n",
      "----------------------- ------------- ------------- -----\n",
      "2MASS J05345696+2157164 05 34 56.9716 +21 57 16.440  Star\n",
      "        MAIN_ID               RA           DEC      OTYPE\n",
      "                           \"h:m:s\"       \"d:m:s\"         \n",
      "----------------------- ------------- ------------- -----\n",
      "2MASS J05343561+2200372 05 34 35.6230 +22 00 37.244  Star\n",
      "        MAIN_ID               RA           DEC      OTYPE\n",
      "                           \"h:m:s\"       \"d:m:s\"         \n",
      "----------------------- ------------- ------------- -----\n",
      "2MASS J05342822+2200307 05 34 28.2314 +22 00 30.753  Star\n",
      "        MAIN_ID               RA           DEC      OTYPE\n",
      "                           \"h:m:s\"       \"d:m:s\"         \n",
      "----------------------- ------------- ------------- -----\n",
      "2MASS J05343342+2200584 05 34 33.4274 +22 00 58.490  Star\n",
      "        MAIN_ID               RA           DEC      OTYPE\n",
      "                           \"h:m:s\"       \"d:m:s\"         \n",
      "----------------------- ------------- ------------- -----\n",
      "2MASS J05343217+2200560 05 34 32.1831 +22 00 56.008  Star\n",
      "        MAIN_ID               RA           DEC      OTYPE\n",
      "                           \"h:m:s\"       \"d:m:s\"         \n",
      "----------------------- ------------- ------------- -----\n",
      "2MASS J05343187+2201161 05 34 31.8813 +22 01 16.187  Star\n",
      "        MAIN_ID               RA           DEC      OTYPE\n",
      "                           \"h:m:s\"       \"d:m:s\"         \n",
      "----------------------- ------------- ------------- -----\n",
      "2MASS J05343759+2201222 05 34 37.5955 +22 01 22.244  Star\n",
      "        MAIN_ID               RA           DEC      OTYPE\n",
      "                           \"h:m:s\"       \"d:m:s\"         \n",
      "----------------------- ------------- ------------- -----\n",
      "2MASS J05343821+2200486 05 34 38.2195 +22 00 48.692  Star\n",
      "        MAIN_ID              RA         DEC     OTYPE\n",
      "                          \"h:m:s\"     \"d:m:s\"        \n",
      "----------------------- ----------- ----------- -----\n",
      "2MASS J05343755+2200010 05 34 37.55 +22 00 01.0  Star\n",
      "        MAIN_ID               RA           DEC      OTYPE\n",
      "                           \"h:m:s\"       \"d:m:s\"         \n",
      "----------------------- ------------- ------------- -----\n",
      "2MASS J05342840+2201387 05 34 28.4072 +22 01 38.776  Star\n",
      "        MAIN_ID               RA           DEC      OTYPE\n",
      "                           \"h:m:s\"       \"d:m:s\"         \n",
      "----------------------- ------------- ------------- -----\n",
      "2MASS J05343378+2204184 05 34 33.7719 +22 04 18.442    UV\n",
      "        MAIN_ID               RA           DEC      OTYPE\n",
      "                           \"h:m:s\"       \"d:m:s\"         \n",
      "----------------------- ------------- ------------- -----\n",
      "2MASS J05345318+2203200 05 34 53.1781 +22 03 20.037    UV\n",
      "        MAIN_ID             RA        DEC    OTYPE \n",
      "                         \"h:m:s\"    \"d:m:s\"        \n",
      "----------------------- ---------- --------- ------\n",
      "JCMTSF J053431.3+220045 05 34 31.3 +22 00 45 smmRad\n",
      "        MAIN_ID             RA        DEC    OTYPE \n",
      "                         \"h:m:s\"    \"d:m:s\"        \n",
      "----------------------- ---------- --------- ------\n",
      "JCMTSF J053439.5+220002 05 34 39.5 +22 00 02 smmRad\n",
      "        MAIN_ID            RA      DEC    OTYPE \n",
      "                        \"h:m:s\"  \"d:m:s\"        \n",
      "----------------------- -------- -------- ------\n",
      "JCMTSF J053438.3+215930 05 34 38 +21 59.3 smmRad\n",
      "        MAIN_ID            RA      DEC    OTYPE \n",
      "                        \"h:m:s\"  \"d:m:s\"        \n",
      "----------------------- -------- -------- ------\n",
      "JCMTSF J053430.4+220151 05 34 31 +22 02.0 smmRad\n",
      "        MAIN_ID            RA      DEC    OTYPE \n",
      "                        \"h:m:s\"  \"d:m:s\"        \n",
      "----------------------- -------- -------- ------\n",
      "JCMTSF J053427.4+220227 05 34 27 +22 02.5 smmRad\n"
     ]
    }
   ],
   "source": [
    "from astroquery.simbad import Simbad\n",
    "from astropy.coordinates import SkyCoord\n",
    "import astropy.units as u\n",
    "\n",
    "galactic_coords = SkyCoord(l=133.6, b=-37.7, unit=(u.deg, u.deg), frame='galactic')\n",
    "\n",
    "m51_coords = SkyCoord(ra=\"13h 29m 52.7s\", dec=\"+47d 11m 42s\", frame=\"icrs\")\n",
    "\n",
    "m1_coords = SkyCoord(ra=\"5h 34m 32s\", dec=\"+22d 0m 52s\", frame=\"icrs\")\n",
    "\n",
    "result = Simbad.query_region(m1_coords, radius = 10 * u.arcmin)\n",
    "# print(result)\n",
    "\n",
    "# icrs_coords = galactic_coords.icrs\n",
    "# result = Simbad.query_region(icrs_coords, radius = 20 * u.arcmin)\n",
    "# print(result)\n",
    "\n",
    "# print(result.colnames)\n",
    "\n",
    "result.sort(\"OTYPE\")\n",
    "\n",
    "# result[\"MAIN_ID\", \"RA\", \"DEC\", \"OTYPE\"]\n",
    "\n",
    "for r in result:\n",
    "    if(\"M\" in r[\"MAIN_ID\"]):\n",
    "        print(r[\"MAIN_ID\", \"RA\", \"DEC\", \"OTYPE\"])"
   ]
  },
  {
   "cell_type": "code",
   "execution_count": 25,
   "metadata": {},
   "outputs": [
    {
     "data": {
      "text/html": [
       "<div><i>Table length=1</i>\n",
       "<table id=\"table4946314512\" class=\"table-striped table-bordered table-condensed\">\n",
       "<thead><tr><th>MAIN_ID</th><th>RA</th><th>DEC</th><th>RA_PREC</th><th>DEC_PREC</th><th>COO_ERR_MAJA</th><th>COO_ERR_MINA</th><th>COO_ERR_ANGLE</th><th>COO_QUAL</th><th>COO_WAVELENGTH</th><th>COO_BIBCODE</th><th>OTYPE</th><th>SCRIPT_NUMBER_ID</th></tr></thead>\n",
       "<thead><tr><th></th><th>&quot;h:m:s&quot;</th><th>&quot;d:m:s&quot;</th><th></th><th></th><th>mas</th><th>mas</th><th>deg</th><th></th><th></th><th></th><th></th><th></th></tr></thead>\n",
       "<thead><tr><th>object</th><th>str13</th><th>str13</th><th>int16</th><th>int16</th><th>float32</th><th>float32</th><th>int16</th><th>str1</th><th>str1</th><th>object</th><th>object</th><th>int32</th></tr></thead>\n",
       "<tr><td>NAME Coma Supercluster</td><td>11 23</td><td>+23.9</td><td>2</td><td>2</td><td>--</td><td>--</td><td>0</td><td>E</td><td></td><td></td><td>SuperClG</td><td>1</td></tr>\n",
       "</table></div>"
      ],
      "text/plain": [
       "<Table length=1>\n",
       "       MAIN_ID            RA     DEC   ... COO_BIBCODE  OTYPE   SCRIPT_NUMBER_ID\n",
       "                       \"h:m:s\" \"d:m:s\" ...                                      \n",
       "        object          str13   str13  ...    object    object       int32      \n",
       "---------------------- ------- ------- ... ----------- -------- ----------------\n",
       "NAME Coma Supercluster   11 23   +23.9 ...             SuperClG                1"
      ]
     },
     "execution_count": 25,
     "metadata": {},
     "output_type": "execute_result"
    }
   ],
   "source": [
    "from astroquery.simbad import Simbad\n",
    "from astropy.coordinates import SkyCoord\n",
    "import astropy.units as u\n",
    "\n",
    "Simbad.reset_votable_fields()\n",
    "Simbad.add_votable_fields('otype')\n",
    "\n",
    "# RA = 10.68470833\n",
    "# DEC = 41.26916667\n",
    "\n",
    "RA = 170.75\n",
    "DEC = 23.9\n",
    "\n",
    "\n",
    "coords = SkyCoord(RA, DEC , unit=(u.deg, u.deg), frame='icrs')\n",
    "\n",
    "result = Simbad.query_region(coords, radius=2 * u.arcmin)\n",
    "\n",
    "\n",
    "result.sort(\"OTYPE\")\n",
    "# types = result[\"MAIN_ID\", \"OTYPE\"]\n",
    "\n",
    "result"
   ]
  },
  {
   "cell_type": "code",
   "execution_count": 6,
   "metadata": {},
   "outputs": [
    {
     "data": {
      "text/plain": [
       "<function astroquery.utils.process_asyncs.async_to_sync.<locals>.create_method.<locals>.newmethod(self, *args, **kwargs)>"
      ]
     },
     "execution_count": 6,
     "metadata": {},
     "output_type": "execute_result"
    }
   ],
   "source": [
    "from astroquery.simbad import Simbad\n",
    "Simbad.query_region"
   ]
  },
  {
   "cell_type": "code",
   "execution_count": 26,
   "metadata": {},
   "outputs": [
    {
     "data": {
      "text/html": [
       "<div><i>Table length=4476</i>\n",
       "<table id=\"table4949939152\" class=\"table-striped table-bordered table-condensed\">\n",
       "<thead><tr><th>MAIN_ID</th><th>OTYPE</th></tr></thead>\n",
       "<thead><tr><th>object</th><th>object</th></tr></thead>\n",
       "<tr><td>GSC 03169-00901</td><td>**</td></tr>\n",
       "<tr><td>HD 202879</td><td>**</td></tr>\n",
       "<tr><td>TYC 3173-864-1</td><td>**</td></tr>\n",
       "<tr><td>BD+37  4210</td><td>**</td></tr>\n",
       "<tr><td>BD+40  4451</td><td>**</td></tr>\n",
       "<tr><td>BD+39  4435</td><td>**</td></tr>\n",
       "<tr><td>TYC 3169-897-1</td><td>**</td></tr>\n",
       "<tr><td>UCAC4 658-093062</td><td>**</td></tr>\n",
       "<tr><td>GSC 03173-02198</td><td>**</td></tr>\n",
       "<tr><td>BD+39  4505</td><td>**</td></tr>\n",
       "<tr><td>...</td><td>...</td></tr>\n",
       "<tr><td>ZTF J211625.58+404145.9</td><td>delSctV*</td></tr>\n",
       "<tr><td>ZTF J210730.01+392438.2</td><td>delSctV*</td></tr>\n",
       "<tr><td>ZTF J210529.05+410355.1</td><td>delSctV*</td></tr>\n",
       "<tr><td>ZTF J210547.73+412119.7</td><td>delSctV*</td></tr>\n",
       "<tr><td>ATO J316.7248+39.8223</td><td>delSctV*</td></tr>\n",
       "<tr><td>ATO J316.2398+39.0044</td><td>delSctV*</td></tr>\n",
       "<tr><td>ZTF J210321.19+392049.8</td><td>delSctV*</td></tr>\n",
       "<tr><td>ATO J318.5062+38.7607</td><td>delSctV*</td></tr>\n",
       "<tr><td>IGR J21171+3930</td><td>gamma</td></tr>\n",
       "<tr><td>Trigger  6427</td><td>gammaBurst</td></tr>\n",
       "</table></div>"
      ],
      "text/plain": [
       "<Table length=4476>\n",
       "        MAIN_ID           OTYPE   \n",
       "         object           object  \n",
       "----------------------- ----------\n",
       "        GSC 03169-00901         **\n",
       "              HD 202879         **\n",
       "         TYC 3173-864-1         **\n",
       "            BD+37  4210         **\n",
       "            BD+40  4451         **\n",
       "            BD+39  4435         **\n",
       "         TYC 3169-897-1         **\n",
       "       UCAC4 658-093062         **\n",
       "        GSC 03173-02198         **\n",
       "            BD+39  4505         **\n",
       "                    ...        ...\n",
       "ZTF J211625.58+404145.9   delSctV*\n",
       "ZTF J210730.01+392438.2   delSctV*\n",
       "ZTF J210529.05+410355.1   delSctV*\n",
       "ZTF J210547.73+412119.7   delSctV*\n",
       "  ATO J316.7248+39.8223   delSctV*\n",
       "  ATO J316.2398+39.0044   delSctV*\n",
       "ZTF J210321.19+392049.8   delSctV*\n",
       "  ATO J318.5062+38.7607   delSctV*\n",
       "        IGR J21171+3930      gamma\n",
       "          Trigger  6427 gammaBurst"
      ]
     },
     "execution_count": 26,
     "metadata": {},
     "output_type": "execute_result"
    }
   ],
   "source": [
    "from astroquery.simbad import Simbad\n",
    "from astropy.coordinates import SkyCoord\n",
    "import astropy.units as u\n",
    "\n",
    "RA = 56.7\n",
    "DEC = -1.1\n",
    "\n",
    "c = SkyCoord(\"5h35m17.3s -5d23m28s\", frame=\"galactic\")  # Units from string\n",
    "\n",
    "\n",
    "# result = Simbad.query_region(SkyCoord(RA, DEC, unit=(u.deg, u.deg),\n",
    "#                     frame='galactic'), radius=2 * u.arcmin)\n",
    "\n",
    "result = Simbad.query_region(c, radius=100 * u.arcmin)\n",
    "\n",
    "result.sort(\"OTYPE\")\n",
    "result[\"MAIN_ID\", \"OTYPE\"]"
   ]
  },
  {
   "cell_type": "code",
   "execution_count": 10,
   "metadata": {},
   "outputs": [
    {
     "ename": "KeyError",
     "evalue": "'OTYPE: no such field'",
     "output_type": "error",
     "traceback": [
      "\u001b[0;31m---------------------------------------------------------------------------\u001b[0m",
      "\u001b[0;31mKeyError\u001b[0m                                  Traceback (most recent call last)",
      "Cell \u001b[0;32mIn[10], line 6\u001b[0m\n\u001b[1;32m      3\u001b[0m \u001b[38;5;28;01mimport\u001b[39;00m \u001b[38;5;21;01mastropy\u001b[39;00m\u001b[38;5;21;01m.\u001b[39;00m\u001b[38;5;21;01munits\u001b[39;00m \u001b[38;5;28;01mas\u001b[39;00m \u001b[38;5;21;01mu\u001b[39;00m\n\u001b[1;32m      5\u001b[0m Simbad\u001b[38;5;241m.\u001b[39mreset_votable_fields()\n\u001b[0;32m----> 6\u001b[0m Simbad\u001b[38;5;241m.\u001b[39madd_votable_fields(\u001b[38;5;124m'\u001b[39m\u001b[38;5;124mOTYPE\u001b[39m\u001b[38;5;124m'\u001b[39m)\n\u001b[1;32m      8\u001b[0m \u001b[38;5;66;03m# Define the center of the region in celestial coordinates (RA, Dec)\u001b[39;00m\n\u001b[1;32m      9\u001b[0m region_center \u001b[38;5;241m=\u001b[39m SkyCoord(ra\u001b[38;5;241m=\u001b[39m\u001b[38;5;241m5.9195\u001b[39m, dec\u001b[38;5;241m=\u001b[39m\u001b[38;5;241m7.4069\u001b[39m, unit\u001b[38;5;241m=\u001b[39m(u\u001b[38;5;241m.\u001b[39mdeg, u\u001b[38;5;241m.\u001b[39mdeg), frame\u001b[38;5;241m=\u001b[39m\u001b[38;5;124m'\u001b[39m\u001b[38;5;124micrs\u001b[39m\u001b[38;5;124m'\u001b[39m)\n",
      "File \u001b[0;32m~/anaconda3/lib/python3.11/site-packages/astroquery/simbad/core.py:481\u001b[0m, in \u001b[0;36mSimbadClass.add_votable_fields\u001b[0;34m(self, *args)\u001b[0m\n\u001b[1;32m    479\u001b[0m sf \u001b[38;5;241m=\u001b[39m strip_field(field)\n\u001b[1;32m    480\u001b[0m \u001b[38;5;28;01mif\u001b[39;00m sf \u001b[38;5;129;01mnot\u001b[39;00m \u001b[38;5;129;01min\u001b[39;00m fields_dict:\n\u001b[0;32m--> 481\u001b[0m     \u001b[38;5;28;01mraise\u001b[39;00m \u001b[38;5;167;01mKeyError\u001b[39;00m(\u001b[38;5;124m\"\u001b[39m\u001b[38;5;132;01m{field}\u001b[39;00m\u001b[38;5;124m: no such field\u001b[39m\u001b[38;5;124m\"\u001b[39m\u001b[38;5;241m.\u001b[39mformat(field\u001b[38;5;241m=\u001b[39mfield))\n\u001b[1;32m    482\u001b[0m \u001b[38;5;28;01melse\u001b[39;00m:\n\u001b[1;32m    483\u001b[0m     \u001b[38;5;28mself\u001b[39m\u001b[38;5;241m.\u001b[39m_VOTABLE_FIELDS\u001b[38;5;241m.\u001b[39mappend(field)\n",
      "\u001b[0;31mKeyError\u001b[0m: 'OTYPE: no such field'"
     ]
    }
   ],
   "source": [
    "from astroquery.simbad import Simbad\n",
    "from astropy.coordinates import SkyCoord\n",
    "import astropy.units as u\n",
    "\n",
    "Simbad.reset_votable_fields()\n",
    "Simbad.add_votable_fields('OTYPE')\n",
    "\n",
    "# Define the center of the region in celestial coordinates (RA, Dec)\n",
    "region_center = SkyCoord(ra=5.9195, dec=7.4069, unit=(u.deg, u.deg), frame='icrs')\n",
    "\n",
    "# Define the radius of the region to query (in degrees)\n",
    "radius = 0.1 * u.deg  # 0.1 degree radius\n",
    "\n",
    "# Query the region\n",
    "\n",
    "\n",
    "result = Simbad.query_region(region_center, radius=radius)\n",
    "\n",
    "\n",
    "print(result.colnames)\n",
    "\n",
    "# Print the result\n",
    "print(result[\"MAIN_ID\", \"RA\", \"DEC\", \"OTYPE\"])"
   ]
  }
 ],
 "metadata": {
  "kernelspec": {
   "display_name": "base",
   "language": "python",
   "name": "python3"
  },
  "language_info": {
   "codemirror_mode": {
    "name": "ipython",
    "version": 3
   },
   "file_extension": ".py",
   "mimetype": "text/x-python",
   "name": "python",
   "nbconvert_exporter": "python",
   "pygments_lexer": "ipython3",
   "version": "3.11.5"
  }
 },
 "nbformat": 4,
 "nbformat_minor": 2
}
